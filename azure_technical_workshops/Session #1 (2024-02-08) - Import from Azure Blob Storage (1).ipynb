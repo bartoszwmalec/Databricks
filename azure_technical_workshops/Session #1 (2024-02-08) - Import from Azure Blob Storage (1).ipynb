{
 "cells": [
  {
   "cell_type": "code",
   "execution_count": 0,
   "metadata": {
    "application/vnd.databricks.v1+cell": {
     "cellMetadata": {
      "byteLimit": 2048000,
      "rowLimit": 10000
     },
     "inputWidgets": {},
     "nuid": "a1fd5ce2-3682-4b18-ae6b-2faf75c6b932",
     "showTitle": false,
     "title": ""
    }
   },
   "outputs": [],
   "source": [
    "dbutils.widgets.text(\"ACCESS_KEY\", '...')"
   ]
  },
  {
   "cell_type": "markdown",
   "metadata": {
    "application/vnd.databricks.v1+cell": {
     "cellMetadata": {
      "byteLimit": 2048000,
      "rowLimit": 10000
     },
     "inputWidgets": {},
     "nuid": "96816ed7-b08a-4ca3-abb9-f99880c3535d",
     "showTitle": false,
     "title": ""
    },
    "jupyter": {
     "outputs_hidden": true
    }
   },
   "source": [
    "\n",
    "This notebook shows you how to create and query a table or DataFrame loaded from data stored in Azure Blob storage."
   ]
  },
  {
   "cell_type": "markdown",
   "metadata": {
    "application/vnd.databricks.v1+cell": {
     "cellMetadata": {
      "byteLimit": 2048000,
      "rowLimit": 10000
     },
     "inputWidgets": {},
     "nuid": "84d079e4-93e8-460d-9d95-54a3fa326ca1",
     "showTitle": false,
     "title": ""
    }
   },
   "source": [
    "\n",
    "### Step 1: Set the data location and type\n",
    "\n",
    "There are two ways to access Azure Blob storage: account keys and shared access signatures (SAS).\n",
    "\n",
    "To get started, we need to set the location and type of the file."
   ]
  },
  {
   "cell_type": "code",
   "execution_count": 0,
   "metadata": {
    "application/vnd.databricks.v1+cell": {
     "cellMetadata": {
      "byteLimit": 2048000,
      "rowLimit": 10000
     },
     "inputWidgets": {},
     "nuid": "2c4bbe62-6157-4a21-bdd4-d3d6513b162c",
     "showTitle": false,
     "title": ""
    }
   },
   "outputs": [
    {
     "output_type": "stream",
     "name": "stdout",
     "output_type": "stream",
     "text": [
      "abcdef\n"
     ]
    }
   ],
   "source": [
    "storage_account_access_key = dbutils.widgets.get(\"ACCESS_KEY\")\n",
    "print(storage_account_access_key)"
   ]
  },
  {
   "cell_type": "code",
   "execution_count": 0,
   "metadata": {
    "application/vnd.databricks.v1+cell": {
     "cellMetadata": {
      "byteLimit": 2048000,
      "rowLimit": 10000
     },
     "inputWidgets": {},
     "nuid": "c760fc54-dbf0-4715-8df6-8fdff699c029",
     "showTitle": false,
     "title": ""
    }
   },
   "outputs": [],
   "source": [
    "# hardcoded - no nie, co za lipa...\n",
    "storage_account_name = \"agnieszka2kuban\"\n",
    "storage_account_access_key = \"tlxN66Zu/xTd+A8RuH1EBphp+L0x9WhVZfDUJHvk9SqnjjRgotxsWu1jHAWZv3R4yeM3fxKoAsZP+AStHcc/IQ==\""
   ]
  },
  {
   "cell_type": "code",
   "execution_count": 0,
   "metadata": {
    "application/vnd.databricks.v1+cell": {
     "cellMetadata": {
      "byteLimit": 2048000,
      "rowLimit": 10000
     },
     "inputWidgets": {},
     "nuid": "8acc0dda-69e3-4817-bf5d-450562afe113",
     "showTitle": false,
     "title": ""
    }
   },
   "outputs": [],
   "source": [
    "spark.conf.set(\n",
    "  \"fs.azure.account.key.\"+storage_account_name+\".blob.core.windows.net\",\n",
    "  storage_account_access_key)"
   ]
  },
  {
   "cell_type": "markdown",
   "metadata": {
    "application/vnd.databricks.v1+cell": {
     "cellMetadata": {
      "byteLimit": 2048000,
      "rowLimit": 10000
     },
     "inputWidgets": {},
     "nuid": "0a3f3dd3-35d1-4420-a80f-f9de29d3affc",
     "showTitle": false,
     "title": ""
    }
   },
   "source": [
    "Description of variables:\n",
    "input - stands for \"Container name\"\n",
    "\n",
    "Loading all files:\n",
    "Afther the phrase \"blob.core.windows.net/\" don't post any characters\n",
    "#file_location = f\"wasbs://input@{storage_account_name}.blob.core.windows.net/\""
   ]
  },
  {
   "cell_type": "markdown",
   "metadata": {
    "application/vnd.databricks.v1+cell": {
     "cellMetadata": {
      "byteLimit": 2048000,
      "rowLimit": 10000
     },
     "inputWidgets": {},
     "nuid": "51114086-25f5-4c9c-8bb3-64ff28b0f0f4",
     "showTitle": false,
     "title": ""
    }
   },
   "source": [
    "\n",
    "### Step 2: Read the data\n",
    "\n",
    "Now that we have specified our file metadata, we can create a DataFrame. Notice that we use an *option* to specify that we want to infer the schema from the file. We can also explicitly set this to a particular schema if we have one already.\n",
    "\n",
    "First, let's create a DataFrame in Python."
   ]
  },
  {
   "cell_type": "code",
   "execution_count": 0,
   "metadata": {
    "application/vnd.databricks.v1+cell": {
     "cellMetadata": {
      "byteLimit": 2048000,
      "rowLimit": 10000
     },
     "inputWidgets": {},
     "nuid": "6482be4c-f067-47c9-b0ac-35c938b94601",
     "showTitle": false,
     "title": ""
    }
   },
   "outputs": [],
   "source": [
    "\n",
    "#file_location = f\"wasbs://input@{storage_account_name}.blob.core.windows.net/AzureUsage.csv\"\n",
    "\n",
    "# Ładowanie po masce nazwy - wildcard (*) \n",
    "# file_location = f\"wasbs://input@{storage_account_name}.blob.core.windows.net/*AzureUsage (*\"\n",
    "\n",
    "file_location = f\"wasbs://input@{storage_account_name}.blob.core.windows.net/\"\n",
    "file_type = \"csv\""
   ]
  },
  {
   "cell_type": "code",
   "execution_count": 0,
   "metadata": {
    "application/vnd.databricks.v1+cell": {
     "cellMetadata": {
      "byteLimit": 2048000,
      "rowLimit": 10000
     },
     "inputWidgets": {},
     "nuid": "f6366891-7da1-478e-8094-4291f4fca976",
     "showTitle": false,
     "title": ""
    }
   },
   "outputs": [],
   "source": [
    "# podejrzana składnia proponowana przez databricksa\n",
    "# df = spark.read.format(file_type).option(\"inferSchema\", \"true\").option(\"header\", \"true\").load(file_location)"
   ]
  },
  {
   "cell_type": "code",
   "execution_count": 0,
   "metadata": {
    "application/vnd.databricks.v1+cell": {
     "cellMetadata": {
      "byteLimit": 2048000,
      "rowLimit": 10000
     },
     "inputWidgets": {},
     "nuid": "566cdc7f-6987-460d-be70-dd6e5ed411a0",
     "showTitle": false,
     "title": ""
    }
   },
   "outputs": [
    {
     "output_type": "display_data",
     "data": {
      "text/html": [
       "<style scoped>\n",
       "  .table-result-container {\n",
       "    max-height: 300px;\n",
       "    overflow: auto;\n",
       "  }\n",
       "  table, th, td {\n",
       "    border: 1px solid black;\n",
       "    border-collapse: collapse;\n",
       "  }\n",
       "  th, td {\n",
       "    padding: 5px;\n",
       "  }\n",
       "  th {\n",
       "    text-align: left;\n",
       "  }\n",
       "</style><div class='table-result-container'><table class='table-result'><thead style='background-color: white'><tr><th>SubscriptionName</th><th>SubscriptionGuid</th><th>Date</th><th>ResourceGuid</th><th>ServiceName</th><th>ServiceType</th><th>ServiceRegion</th><th>ServiceResource</th><th>Quantity</th><th>Cost</th></tr></thead><tbody><tr><td>EVIDEN MS Partner</td><td>61096b0b-79b9-442a-9e59-9b03e9ed7dca</td><td>2/5/2024</td><td>59d063a4-87cd-40da-a237-0cd24bbb451d</td><td>Azure Data Factory v2</td><td>All</td><td>All</td><td>Cloud Pipeline Activity</td><td>0.150002</td><td>15.000748</td></tr><tr><td>EVIDEN MS Partner</td><td>61096b0b-79b9-442a-9e59-9b03e9ed7dca</td><td>2/6/2024</td><td>59d063a4-87cd-40da-a237-0cd24bbb451d</td><td>Azure Data Factory v2</td><td>All</td><td>All</td><td>Cloud Pipeline Activity</td><td>0.433335</td><td>0.002165</td></tr><tr><td>EVIDEN MS Partner</td><td>61096b0b-79b9-442a-9e59-9b03e9ed7dca</td><td>2/7/2024</td><td>59d063a4-87cd-40da-a237-0cd24bbb451d</td><td>Azure Data Factory v2</td><td>All</td><td>All</td><td>Cloud Pipeline Activity</td><td>0.283335</td><td>0.001415</td></tr><tr><td>EVIDEN MS Partner</td><td>61096b0b-79b9-442a-9e59-9b03e9ed7dca</td><td>2/2/2024</td><td>5bd67b90-1a10-5cba-84a9-1fc79c3f4a4f</td><td>Storage</td><td>General Block Blob v2 Hierarchical Namespace</td><td>PL Central</td><td>Hot Other Operations</td><td>0.003</td><td>1.8E-5</td></tr><tr><td>EVIDEN MS Partner</td><td>61096b0b-79b9-442a-9e59-9b03e9ed7dca</td><td>2/3/2024</td><td>5bd67b90-1a10-5cba-84a9-1fc79c3f4a4f</td><td>Storage</td><td>General Block Blob v2 Hierarchical Namespace</td><td>PL Central</td><td>Hot Other Operations</td><td>1.0E-4</td><td>1.0E-6</td></tr><tr><td>EVIDEN MS Partner</td><td>61096b0b-79b9-442a-9e59-9b03e9ed7dca</td><td>2/4/2024</td><td>5bd67b90-1a10-5cba-84a9-1fc79c3f4a4f</td><td>Storage</td><td>General Block Blob v2 Hierarchical Namespace</td><td>PL Central</td><td>Hot Other Operations</td><td>2.0E-4</td><td>2.0E-6</td></tr><tr><td>EVIDEN MS Partner</td><td>61096b0b-79b9-442a-9e59-9b03e9ed7dca</td><td>2/5/2024</td><td>5bd67b90-1a10-5cba-84a9-1fc79c3f4a4f</td><td>Storage</td><td>General Block Blob v2 Hierarchical Namespace</td><td>PL Central</td><td>Hot Other Operations</td><td>0.0064</td><td>4.0E-5</td></tr><tr><td>EVIDEN MS Partner</td><td>61096b0b-79b9-442a-9e59-9b03e9ed7dca</td><td>2/6/2024</td><td>5bd67b90-1a10-5cba-84a9-1fc79c3f4a4f</td><td>Storage</td><td>General Block Blob v2 Hierarchical Namespace</td><td>PL Central</td><td>Hot Other Operations</td><td>5.0E-4</td><td>5.0E-6</td></tr><tr><td>EVIDEN MS Partner</td><td>61096b0b-79b9-442a-9e59-9b03e9ed7dca</td><td>2/7/2024</td><td>5bd67b90-1a10-5cba-84a9-1fc79c3f4a4f</td><td>Storage</td><td>General Block Blob v2 Hierarchical Namespace</td><td>PL Central</td><td>Hot Other Operations</td><td>0.0015</td><td>1.1E-5</td></tr><tr><td>EVIDEN MS Partner</td><td>61096b0b-79b9-442a-9e59-9b03e9ed7dca</td><td>2/8/2024</td><td>5bd67b90-1a10-5cba-84a9-1fc79c3f4a4f</td><td>Storage</td><td>General Block Blob v2 Hierarchical Namespace</td><td>PL Central</td><td>Hot Other Operations</td><td>1.0E-4</td><td>1.0E-6</td></tr><tr><td>EVIDEN MS Partner</td><td>61096b0b-79b9-442a-9e59-9b03e9ed7dca</td><td>2/2/2024</td><td>32c3ebec-1646-49e3-8127-2cafbd3a04d8</td><td>Bandwidth</td><td>All</td><td>All</td><td>Standard Data Transfer In</td><td>2.2E-5</td><td>0.0</td></tr><tr><td>EVIDEN MS Partner</td><td>61096b0b-79b9-442a-9e59-9b03e9ed7dca</td><td>2/5/2024</td><td>32c3ebec-1646-49e3-8127-2cafbd3a04d8</td><td>Bandwidth</td><td>All</td><td>All</td><td>Standard Data Transfer In</td><td>4.5E-5</td><td>0.0</td></tr><tr><td>EVIDEN MS Partner</td><td>61096b0b-79b9-442a-9e59-9b03e9ed7dca</td><td>2/5/2024</td><td>6a99015c-d33f-4f46-ae59-2e4d14091aa8</td><td>Storage</td><td>Files</td><td>All</td><td>Protocol Operations</td><td>0.009</td><td>1.4E-5</td></tr><tr><td>EVIDEN MS Partner</td><td>61096b0b-79b9-442a-9e59-9b03e9ed7dca</td><td>2/5/2024</td><td>0d058698-a599-5270-8156-33d513fe3307</td><td>SQL Database</td><td>Single/Elastic Pool General Purpose - Storage</td><td>PL Central</td><td>General Purpose Data Stored</td><td>0.447312</td><td>0.067544</td></tr><tr><td>EVIDEN MS Partner</td><td>61096b0b-79b9-442a-9e59-9b03e9ed7dca</td><td>2/6/2024</td><td>0d058698-a599-5270-8156-33d513fe3307</td><td>SQL Database</td><td>Single/Elastic Pool General Purpose - Storage</td><td>PL Central</td><td>General Purpose Data Stored</td><td>1.341936</td><td>0.202632</td></tr><tr><td>EVIDEN MS Partner</td><td>61096b0b-79b9-442a-9e59-9b03e9ed7dca</td><td>2/7/2024</td><td>0d058698-a599-5270-8156-33d513fe3307</td><td>SQL Database</td><td>Single/Elastic Pool General Purpose - Storage</td><td>PL Central</td><td>General Purpose Data Stored</td><td>1.341936</td><td>0.202632</td></tr><tr><td>EVIDEN MS Partner</td><td>61096b0b-79b9-442a-9e59-9b03e9ed7dca</td><td>2/8/2024</td><td>0d058698-a599-5270-8156-33d513fe3307</td><td>SQL Database</td><td>Single/Elastic Pool General Purpose - Storage</td><td>PL Central</td><td>General Purpose Data Stored</td><td>0.335484</td><td>0.050658</td></tr><tr><td>EVIDEN MS Partner</td><td>61096b0b-79b9-442a-9e59-9b03e9ed7dca</td><td>2/5/2024</td><td>ed8a651a-e0a3-4de6-a8ae-3b4ce8cb72cf</td><td>Storage</td><td>Files</td><td>All</td><td>LRS Data Stored</td><td>0.03592</td><td>0.002155</td></tr><tr><td>EVIDEN MS Partner</td><td>61096b0b-79b9-442a-9e59-9b03e9ed7dca</td><td>2/6/2024</td><td>ed8a651a-e0a3-4de6-a8ae-3b4ce8cb72cf</td><td>Storage</td><td>Files</td><td>All</td><td>LRS Data Stored</td><td>0.172416</td><td>0.010344</td></tr><tr><td>EVIDEN MS Partner</td><td>61096b0b-79b9-442a-9e59-9b03e9ed7dca</td><td>2/7/2024</td><td>ed8a651a-e0a3-4de6-a8ae-3b4ce8cb72cf</td><td>Storage</td><td>Files</td><td>All</td><td>LRS Data Stored</td><td>0.172416</td><td>0.010344</td></tr><tr><td>EVIDEN MS Partner</td><td>61096b0b-79b9-442a-9e59-9b03e9ed7dca</td><td>2/8/2024</td><td>ed8a651a-e0a3-4de6-a8ae-3b4ce8cb72cf</td><td>Storage</td><td>Files</td><td>All</td><td>LRS Data Stored</td><td>0.050288</td><td>0.003017</td></tr><tr><td>EVIDEN MS Partner</td><td>61096b0b-79b9-442a-9e59-9b03e9ed7dca</td><td>2/5/2024</td><td>3e3981ec-a567-4790-9b06-484295b9b3dc</td><td>Storage</td><td>Tiered Block Blob</td><td>EU West</td><td>All Other Operations</td><td>2.0E-4</td><td>0.0</td></tr><tr><td>EVIDEN MS Partner</td><td>61096b0b-79b9-442a-9e59-9b03e9ed7dca</td><td>2/6/2024</td><td>3e3981ec-a567-4790-9b06-484295b9b3dc</td><td>Storage</td><td>Tiered Block Blob</td><td>EU West</td><td>All Other Operations</td><td>8.0E-4</td><td>2.0E-6</td></tr><tr><td>EVIDEN MS Partner</td><td>61096b0b-79b9-442a-9e59-9b03e9ed7dca</td><td>2/7/2024</td><td>3e3981ec-a567-4790-9b06-484295b9b3dc</td><td>Storage</td><td>Tiered Block Blob</td><td>EU West</td><td>All Other Operations</td><td>6.0E-4</td><td>1.0E-6</td></tr><tr><td>EVIDEN MS Partner</td><td>61096b0b-79b9-442a-9e59-9b03e9ed7dca</td><td>2/8/2024</td><td>3e3981ec-a567-4790-9b06-484295b9b3dc</td><td>Storage</td><td>Tiered Block Blob</td><td>EU West</td><td>All Other Operations</td><td>1.0E-4</td><td>0.0</td></tr><tr><td>EVIDEN MS Partner</td><td>61096b0b-79b9-442a-9e59-9b03e9ed7dca</td><td>2/2/2024</td><td>b9e5e77c-a0b3-4a2c-9b8b-57fa54f31c52</td><td>Storage</td><td>Tables</td><td>All</td><td>Batch Write Operations</td><td>0.0039</td><td>0.0</td></tr><tr><td>EVIDEN MS Partner</td><td>61096b0b-79b9-442a-9e59-9b03e9ed7dca</td><td>2/3/2024</td><td>b9e5e77c-a0b3-4a2c-9b8b-57fa54f31c52</td><td>Storage</td><td>Tables</td><td>All</td><td>Batch Write Operations</td><td>0.0146</td><td>0.0</td></tr><tr><td>EVIDEN MS Partner</td><td>61096b0b-79b9-442a-9e59-9b03e9ed7dca</td><td>2/4/2024</td><td>b9e5e77c-a0b3-4a2c-9b8b-57fa54f31c52</td><td>Storage</td><td>Tables</td><td>All</td><td>Batch Write Operations</td><td>0.0146</td><td>0.0</td></tr><tr><td>EVIDEN MS Partner</td><td>61096b0b-79b9-442a-9e59-9b03e9ed7dca</td><td>2/5/2024</td><td>b9e5e77c-a0b3-4a2c-9b8b-57fa54f31c52</td><td>Storage</td><td>Tables</td><td>All</td><td>Batch Write Operations</td><td>0.0197</td><td>0.0</td></tr><tr><td>EVIDEN MS Partner</td><td>61096b0b-79b9-442a-9e59-9b03e9ed7dca</td><td>2/6/2024</td><td>b9e5e77c-a0b3-4a2c-9b8b-57fa54f31c52</td><td>Storage</td><td>Tables</td><td>All</td><td>Batch Write Operations</td><td>0.0291</td><td>0.0</td></tr><tr><td>EVIDEN MS Partner</td><td>61096b0b-79b9-442a-9e59-9b03e9ed7dca</td><td>2/7/2024</td><td>b9e5e77c-a0b3-4a2c-9b8b-57fa54f31c52</td><td>Storage</td><td>Tables</td><td>All</td><td>Batch Write Operations</td><td>0.0292</td><td>0.0</td></tr><tr><td>EVIDEN MS Partner</td><td>61096b0b-79b9-442a-9e59-9b03e9ed7dca</td><td>2/8/2024</td><td>b9e5e77c-a0b3-4a2c-9b8b-57fa54f31c52</td><td>Storage</td><td>Tables</td><td>All</td><td>Batch Write Operations</td><td>0.0088</td><td>0.0</td></tr><tr><td>EVIDEN MS Partner</td><td>61096b0b-79b9-442a-9e59-9b03e9ed7dca</td><td>2/5/2024</td><td>21a9c0ad-88fe-5a95-8daa-5f2eef4afc5c</td><td>Storage</td><td>General Block Blob v2 Hierarchical Namespace</td><td>PL Central</td><td>Cool Read Operations</td><td>3.0E-4</td><td>4.0E-6</td></tr><tr><td>EVIDEN MS Partner</td><td>61096b0b-79b9-442a-9e59-9b03e9ed7dca</td><td>2/7/2024</td><td>21a9c0ad-88fe-5a95-8daa-5f2eef4afc5c</td><td>Storage</td><td>General Block Blob v2 Hierarchical Namespace</td><td>PL Central</td><td>Cool Read Operations</td><td>0.0016</td><td>2.3E-5</td></tr><tr><td>EVIDEN MS Partner</td><td>61096b0b-79b9-442a-9e59-9b03e9ed7dca</td><td>2/2/2024</td><td>a13a9a9e-4cf0-51f6-9718-64324ff2fc6d</td><td>Storage</td><td>Azure Data Lake Storage Gen2 Hierarchical Namespace</td><td>PL Central</td><td>Hot Iterative Read Operations</td><td>6.0E-4</td><td>4.6E-5</td></tr><tr><td>EVIDEN MS Partner</td><td>61096b0b-79b9-442a-9e59-9b03e9ed7dca</td><td>2/5/2024</td><td>a13a9a9e-4cf0-51f6-9718-64324ff2fc6d</td><td>Storage</td><td>Azure Data Lake Storage Gen2 Hierarchical Namespace</td><td>PL Central</td><td>Hot Iterative Read Operations</td><td>0.0014</td><td>1.08E-4</td></tr><tr><td>EVIDEN MS Partner</td><td>61096b0b-79b9-442a-9e59-9b03e9ed7dca</td><td>2/7/2024</td><td>a13a9a9e-4cf0-51f6-9718-64324ff2fc6d</td><td>Storage</td><td>Azure Data Lake Storage Gen2 Hierarchical Namespace</td><td>PL Central</td><td>Hot Iterative Read Operations</td><td>4.0E-4</td><td>3.1E-5</td></tr><tr><td>EVIDEN MS Partner</td><td>61096b0b-79b9-442a-9e59-9b03e9ed7dca</td><td>2/2/2024</td><td>761abab8-259d-4206-a6ae-707ed03fc540</td><td>Storage</td><td>Files</td><td>All</td><td>Read Operations</td><td>2.0E-4</td><td>0.0</td></tr><tr><td>EVIDEN MS Partner</td><td>61096b0b-79b9-442a-9e59-9b03e9ed7dca</td><td>2/5/2024</td><td>761abab8-259d-4206-a6ae-707ed03fc540</td><td>Storage</td><td>Files</td><td>All</td><td>Read Operations</td><td>0.0137</td><td>2.0E-5</td></tr><tr><td>EVIDEN MS Partner</td><td>61096b0b-79b9-442a-9e59-9b03e9ed7dca</td><td>2/2/2024</td><td>9995d93a-7d35-4d3f-9c69-7a7fea447ef4</td><td>Bandwidth</td><td>All</td><td>All</td><td>Standard Data Transfer Out</td><td>6.0E-6</td><td>1.0E-6</td></tr><tr><td>EVIDEN MS Partner</td><td>61096b0b-79b9-442a-9e59-9b03e9ed7dca</td><td>2/5/2024</td><td>9995d93a-7d35-4d3f-9c69-7a7fea447ef4</td><td>Bandwidth</td><td>All</td><td>All</td><td>Standard Data Transfer Out</td><td>1.1E-5</td><td>1.0E-6</td></tr><tr><td>EVIDEN MS Partner</td><td>61096b0b-79b9-442a-9e59-9b03e9ed7dca</td><td>2/2/2024</td><td>12da282f-7e96-49e2-983a-9a65da2a4866</td><td>Storage</td><td>Tables</td><td>All</td><td>Read Operations</td><td>4.0E-4</td><td>0.0</td></tr><tr><td>EVIDEN MS Partner</td><td>61096b0b-79b9-442a-9e59-9b03e9ed7dca</td><td>2/5/2024</td><td>12da282f-7e96-49e2-983a-9a65da2a4866</td><td>Storage</td><td>Tables</td><td>All</td><td>Read Operations</td><td>6.0E-4</td><td>0.0</td></tr><tr><td>EVIDEN MS Partner</td><td>61096b0b-79b9-442a-9e59-9b03e9ed7dca</td><td>2/6/2024</td><td>12da282f-7e96-49e2-983a-9a65da2a4866</td><td>Storage</td><td>Tables</td><td>All</td><td>Read Operations</td><td>1.0E-4</td><td>0.0</td></tr><tr><td>EVIDEN MS Partner</td><td>61096b0b-79b9-442a-9e59-9b03e9ed7dca</td><td>2/5/2024</td><td>4b0f0e6c-57ef-5143-9be8-9c47d933f488</td><td>Storage</td><td>General Block Blob v2 Hierarchical Namespace</td><td>PL Central</td><td>Cool Data Retrieval</td><td>5.4E-5</td><td>1.0E-6</td></tr><tr><td>EVIDEN MS Partner</td><td>61096b0b-79b9-442a-9e59-9b03e9ed7dca</td><td>2/7/2024</td><td>4b0f0e6c-57ef-5143-9be8-9c47d933f488</td><td>Storage</td><td>General Block Blob v2 Hierarchical Namespace</td><td>PL Central</td><td>Cool Data Retrieval</td><td>2.9E-4</td><td>3.0E-6</td></tr><tr><td>EVIDEN MS Partner</td><td>61096b0b-79b9-442a-9e59-9b03e9ed7dca</td><td>2/5/2024</td><td>f90f81d2-238a-49d0-9f1b-9df13a859843</td><td>Storage</td><td>Files</td><td>All</td><td>LRS Write Operations</td><td>0.0222</td><td>3.33E-4</td></tr><tr><td>EVIDEN MS Partner</td><td>61096b0b-79b9-442a-9e59-9b03e9ed7dca</td><td>2/2/2024</td><td>9cb0bde8-bc0d-468c-8423-a25fe06779d3</td><td>Storage</td><td>Tables</td><td>All</td><td>Write Operations</td><td>4.0E-4</td><td>0.0</td></tr><tr><td>EVIDEN MS Partner</td><td>61096b0b-79b9-442a-9e59-9b03e9ed7dca</td><td>2/5/2024</td><td>9cb0bde8-bc0d-468c-8423-a25fe06779d3</td><td>Storage</td><td>Tables</td><td>All</td><td>Write Operations</td><td>6.0E-4</td><td>0.0</td></tr><tr><td>EVIDEN MS Partner</td><td>61096b0b-79b9-442a-9e59-9b03e9ed7dca</td><td>2/6/2024</td><td>9cb0bde8-bc0d-468c-8423-a25fe06779d3</td><td>Storage</td><td>Tables</td><td>All</td><td>Write Operations</td><td>1.0E-4</td><td>0.0</td></tr><tr><td>EVIDEN MS Partner</td><td>61096b0b-79b9-442a-9e59-9b03e9ed7dca</td><td>2/4/2024</td><td>3f2b1e1c-c886-4ec6-ad6f-dd0ef38819c9</td><td>Storage</td><td>Tables</td><td>All</td><td>LRS Data Stored</td><td>1.9E-5</td><td>0.0</td></tr><tr><td>EVIDEN MS Partner</td><td>61096b0b-79b9-442a-9e59-9b03e9ed7dca</td><td>2/5/2024</td><td>3f2b1e1c-c886-4ec6-ad6f-dd0ef38819c9</td><td>Storage</td><td>Tables</td><td>All</td><td>LRS Data Stored</td><td>4.3E-5</td><td>0.0</td></tr><tr><td>EVIDEN MS Partner</td><td>61096b0b-79b9-442a-9e59-9b03e9ed7dca</td><td>2/6/2024</td><td>3f2b1e1c-c886-4ec6-ad6f-dd0ef38819c9</td><td>Storage</td><td>Tables</td><td>All</td><td>LRS Data Stored</td><td>7.0E-5</td><td>0.0</td></tr><tr><td>EVIDEN MS Partner</td><td>61096b0b-79b9-442a-9e59-9b03e9ed7dca</td><td>2/7/2024</td><td>3f2b1e1c-c886-4ec6-ad6f-dd0ef38819c9</td><td>Storage</td><td>Tables</td><td>All</td><td>LRS Data Stored</td><td>1.12E-4</td><td>0.0</td></tr><tr><td>EVIDEN MS Partner</td><td>61096b0b-79b9-442a-9e59-9b03e9ed7dca</td><td>2/8/2024</td><td>3f2b1e1c-c886-4ec6-ad6f-dd0ef38819c9</td><td>Storage</td><td>Tables</td><td>All</td><td>LRS Data Stored</td><td>4.9E-5</td><td>0.0</td></tr><tr><td>EVIDEN MS Partner</td><td>61096b0b-79b9-442a-9e59-9b03e9ed7dca</td><td>2/7/2024</td><td>9d6f5dbf-90a1-46bc-85b7-e9c3f92bae35</td><td>Azure Data Factory v2</td><td>All</td><td>All</td><td>Cloud Data Movement</td><td>0.066667</td><td>0.016667</td></tr><tr><td>EVIDEN MS Partner</td><td>61096b0b-79b9-442a-9e59-9b03e9ed7dca</td><td>2/5/2024</td><td>65b9efcb-2696-5dc3-973d-ec3b9f148b97</td><td>SQL Database</td><td>Single General Purpose - Serverless - Compute Gen5</td><td>PL Central</td><td>vCore</td><td>1.008619</td><td>0.636768</td></tr><tr><td>EVIDEN MS Partner</td><td>61096b0b-79b9-442a-9e59-9b03e9ed7dca</td><td>2/6/2024</td><td>65b9efcb-2696-5dc3-973d-ec3b9f148b97</td><td>SQL Database</td><td>Single General Purpose - Serverless - Compute Gen5</td><td>PL Central</td><td>vCore</td><td>3.398113</td><td>2.145322</td></tr><tr><td>EVIDEN MS Partner</td><td>61096b0b-79b9-442a-9e59-9b03e9ed7dca</td><td>2/7/2024</td><td>65b9efcb-2696-5dc3-973d-ec3b9f148b97</td><td>SQL Database</td><td>Single General Purpose - Serverless - Compute Gen5</td><td>PL Central</td><td>vCore</td><td>1.455616</td><td>0.918971</td></tr><tr><td>EVIDEN MS Partner</td><td>61096b0b-79b9-442a-9e59-9b03e9ed7dca</td><td>2/5/2024</td><td>047ead4b-ea01-5976-b739-fb65cb00eeba</td><td>Storage</td><td>General Block Blob v2 Hierarchical Namespace</td><td>PL Central</td><td>Cool Write Operations</td><td>2.0E-4</td><td>2.9E-5</td></tr></tbody></table></div>"
      ]
     },
     "metadata": {
      "application/vnd.databricks.v1+output": {
       "addedWidgets": {},
       "aggData": [],
       "aggError": "",
       "aggOverflow": false,
       "aggSchema": [],
       "aggSeriesLimitReached": false,
       "aggType": "",
       "arguments": {},
       "columnCustomDisplayInfos": {},
       "data": [
        [
         "EVIDEN MS Partner",
         "61096b0b-79b9-442a-9e59-9b03e9ed7dca",
         "2/5/2024",
         "59d063a4-87cd-40da-a237-0cd24bbb451d",
         "Azure Data Factory v2",
         "All",
         "All",
         "Cloud Pipeline Activity",
         0.150002,
         15.000748
        ],
        [
         "EVIDEN MS Partner",
         "61096b0b-79b9-442a-9e59-9b03e9ed7dca",
         "2/6/2024",
         "59d063a4-87cd-40da-a237-0cd24bbb451d",
         "Azure Data Factory v2",
         "All",
         "All",
         "Cloud Pipeline Activity",
         0.433335,
         0.002165
        ],
        [
         "EVIDEN MS Partner",
         "61096b0b-79b9-442a-9e59-9b03e9ed7dca",
         "2/7/2024",
         "59d063a4-87cd-40da-a237-0cd24bbb451d",
         "Azure Data Factory v2",
         "All",
         "All",
         "Cloud Pipeline Activity",
         0.283335,
         0.001415
        ],
        [
         "EVIDEN MS Partner",
         "61096b0b-79b9-442a-9e59-9b03e9ed7dca",
         "2/2/2024",
         "5bd67b90-1a10-5cba-84a9-1fc79c3f4a4f",
         "Storage",
         "General Block Blob v2 Hierarchical Namespace",
         "PL Central",
         "Hot Other Operations",
         0.003,
         1.8E-5
        ],
        [
         "EVIDEN MS Partner",
         "61096b0b-79b9-442a-9e59-9b03e9ed7dca",
         "2/3/2024",
         "5bd67b90-1a10-5cba-84a9-1fc79c3f4a4f",
         "Storage",
         "General Block Blob v2 Hierarchical Namespace",
         "PL Central",
         "Hot Other Operations",
         1.0E-4,
         1.0E-6
        ],
        [
         "EVIDEN MS Partner",
         "61096b0b-79b9-442a-9e59-9b03e9ed7dca",
         "2/4/2024",
         "5bd67b90-1a10-5cba-84a9-1fc79c3f4a4f",
         "Storage",
         "General Block Blob v2 Hierarchical Namespace",
         "PL Central",
         "Hot Other Operations",
         2.0E-4,
         2.0E-6
        ],
        [
         "EVIDEN MS Partner",
         "61096b0b-79b9-442a-9e59-9b03e9ed7dca",
         "2/5/2024",
         "5bd67b90-1a10-5cba-84a9-1fc79c3f4a4f",
         "Storage",
         "General Block Blob v2 Hierarchical Namespace",
         "PL Central",
         "Hot Other Operations",
         0.0064,
         4.0E-5
        ],
        [
         "EVIDEN MS Partner",
         "61096b0b-79b9-442a-9e59-9b03e9ed7dca",
         "2/6/2024",
         "5bd67b90-1a10-5cba-84a9-1fc79c3f4a4f",
         "Storage",
         "General Block Blob v2 Hierarchical Namespace",
         "PL Central",
         "Hot Other Operations",
         5.0E-4,
         5.0E-6
        ],
        [
         "EVIDEN MS Partner",
         "61096b0b-79b9-442a-9e59-9b03e9ed7dca",
         "2/7/2024",
         "5bd67b90-1a10-5cba-84a9-1fc79c3f4a4f",
         "Storage",
         "General Block Blob v2 Hierarchical Namespace",
         "PL Central",
         "Hot Other Operations",
         0.0015,
         1.1E-5
        ],
        [
         "EVIDEN MS Partner",
         "61096b0b-79b9-442a-9e59-9b03e9ed7dca",
         "2/8/2024",
         "5bd67b90-1a10-5cba-84a9-1fc79c3f4a4f",
         "Storage",
         "General Block Blob v2 Hierarchical Namespace",
         "PL Central",
         "Hot Other Operations",
         1.0E-4,
         1.0E-6
        ],
        [
         "EVIDEN MS Partner",
         "61096b0b-79b9-442a-9e59-9b03e9ed7dca",
         "2/2/2024",
         "32c3ebec-1646-49e3-8127-2cafbd3a04d8",
         "Bandwidth",
         "All",
         "All",
         "Standard Data Transfer In",
         2.2E-5,
         0.0
        ],
        [
         "EVIDEN MS Partner",
         "61096b0b-79b9-442a-9e59-9b03e9ed7dca",
         "2/5/2024",
         "32c3ebec-1646-49e3-8127-2cafbd3a04d8",
         "Bandwidth",
         "All",
         "All",
         "Standard Data Transfer In",
         4.5E-5,
         0.0
        ],
        [
         "EVIDEN MS Partner",
         "61096b0b-79b9-442a-9e59-9b03e9ed7dca",
         "2/5/2024",
         "6a99015c-d33f-4f46-ae59-2e4d14091aa8",
         "Storage",
         "Files",
         "All",
         "Protocol Operations",
         0.009,
         1.4E-5
        ],
        [
         "EVIDEN MS Partner",
         "61096b0b-79b9-442a-9e59-9b03e9ed7dca",
         "2/5/2024",
         "0d058698-a599-5270-8156-33d513fe3307",
         "SQL Database",
         "Single/Elastic Pool General Purpose - Storage",
         "PL Central",
         "General Purpose Data Stored",
         0.447312,
         0.067544
        ],
        [
         "EVIDEN MS Partner",
         "61096b0b-79b9-442a-9e59-9b03e9ed7dca",
         "2/6/2024",
         "0d058698-a599-5270-8156-33d513fe3307",
         "SQL Database",
         "Single/Elastic Pool General Purpose - Storage",
         "PL Central",
         "General Purpose Data Stored",
         1.341936,
         0.202632
        ],
        [
         "EVIDEN MS Partner",
         "61096b0b-79b9-442a-9e59-9b03e9ed7dca",
         "2/7/2024",
         "0d058698-a599-5270-8156-33d513fe3307",
         "SQL Database",
         "Single/Elastic Pool General Purpose - Storage",
         "PL Central",
         "General Purpose Data Stored",
         1.341936,
         0.202632
        ],
        [
         "EVIDEN MS Partner",
         "61096b0b-79b9-442a-9e59-9b03e9ed7dca",
         "2/8/2024",
         "0d058698-a599-5270-8156-33d513fe3307",
         "SQL Database",
         "Single/Elastic Pool General Purpose - Storage",
         "PL Central",
         "General Purpose Data Stored",
         0.335484,
         0.050658
        ],
        [
         "EVIDEN MS Partner",
         "61096b0b-79b9-442a-9e59-9b03e9ed7dca",
         "2/5/2024",
         "ed8a651a-e0a3-4de6-a8ae-3b4ce8cb72cf",
         "Storage",
         "Files",
         "All",
         "LRS Data Stored",
         0.03592,
         0.002155
        ],
        [
         "EVIDEN MS Partner",
         "61096b0b-79b9-442a-9e59-9b03e9ed7dca",
         "2/6/2024",
         "ed8a651a-e0a3-4de6-a8ae-3b4ce8cb72cf",
         "Storage",
         "Files",
         "All",
         "LRS Data Stored",
         0.172416,
         0.010344
        ],
        [
         "EVIDEN MS Partner",
         "61096b0b-79b9-442a-9e59-9b03e9ed7dca",
         "2/7/2024",
         "ed8a651a-e0a3-4de6-a8ae-3b4ce8cb72cf",
         "Storage",
         "Files",
         "All",
         "LRS Data Stored",
         0.172416,
         0.010344
        ],
        [
         "EVIDEN MS Partner",
         "61096b0b-79b9-442a-9e59-9b03e9ed7dca",
         "2/8/2024",
         "ed8a651a-e0a3-4de6-a8ae-3b4ce8cb72cf",
         "Storage",
         "Files",
         "All",
         "LRS Data Stored",
         0.050288,
         0.003017
        ],
        [
         "EVIDEN MS Partner",
         "61096b0b-79b9-442a-9e59-9b03e9ed7dca",
         "2/5/2024",
         "3e3981ec-a567-4790-9b06-484295b9b3dc",
         "Storage",
         "Tiered Block Blob",
         "EU West",
         "All Other Operations",
         2.0E-4,
         0.0
        ],
        [
         "EVIDEN MS Partner",
         "61096b0b-79b9-442a-9e59-9b03e9ed7dca",
         "2/6/2024",
         "3e3981ec-a567-4790-9b06-484295b9b3dc",
         "Storage",
         "Tiered Block Blob",
         "EU West",
         "All Other Operations",
         8.0E-4,
         2.0E-6
        ],
        [
         "EVIDEN MS Partner",
         "61096b0b-79b9-442a-9e59-9b03e9ed7dca",
         "2/7/2024",
         "3e3981ec-a567-4790-9b06-484295b9b3dc",
         "Storage",
         "Tiered Block Blob",
         "EU West",
         "All Other Operations",
         6.0E-4,
         1.0E-6
        ],
        [
         "EVIDEN MS Partner",
         "61096b0b-79b9-442a-9e59-9b03e9ed7dca",
         "2/8/2024",
         "3e3981ec-a567-4790-9b06-484295b9b3dc",
         "Storage",
         "Tiered Block Blob",
         "EU West",
         "All Other Operations",
         1.0E-4,
         0.0
        ],
        [
         "EVIDEN MS Partner",
         "61096b0b-79b9-442a-9e59-9b03e9ed7dca",
         "2/2/2024",
         "b9e5e77c-a0b3-4a2c-9b8b-57fa54f31c52",
         "Storage",
         "Tables",
         "All",
         "Batch Write Operations",
         0.0039,
         0.0
        ],
        [
         "EVIDEN MS Partner",
         "61096b0b-79b9-442a-9e59-9b03e9ed7dca",
         "2/3/2024",
         "b9e5e77c-a0b3-4a2c-9b8b-57fa54f31c52",
         "Storage",
         "Tables",
         "All",
         "Batch Write Operations",
         0.0146,
         0.0
        ],
        [
         "EVIDEN MS Partner",
         "61096b0b-79b9-442a-9e59-9b03e9ed7dca",
         "2/4/2024",
         "b9e5e77c-a0b3-4a2c-9b8b-57fa54f31c52",
         "Storage",
         "Tables",
         "All",
         "Batch Write Operations",
         0.0146,
         0.0
        ],
        [
         "EVIDEN MS Partner",
         "61096b0b-79b9-442a-9e59-9b03e9ed7dca",
         "2/5/2024",
         "b9e5e77c-a0b3-4a2c-9b8b-57fa54f31c52",
         "Storage",
         "Tables",
         "All",
         "Batch Write Operations",
         0.0197,
         0.0
        ],
        [
         "EVIDEN MS Partner",
         "61096b0b-79b9-442a-9e59-9b03e9ed7dca",
         "2/6/2024",
         "b9e5e77c-a0b3-4a2c-9b8b-57fa54f31c52",
         "Storage",
         "Tables",
         "All",
         "Batch Write Operations",
         0.0291,
         0.0
        ],
        [
         "EVIDEN MS Partner",
         "61096b0b-79b9-442a-9e59-9b03e9ed7dca",
         "2/7/2024",
         "b9e5e77c-a0b3-4a2c-9b8b-57fa54f31c52",
         "Storage",
         "Tables",
         "All",
         "Batch Write Operations",
         0.0292,
         0.0
        ],
        [
         "EVIDEN MS Partner",
         "61096b0b-79b9-442a-9e59-9b03e9ed7dca",
         "2/8/2024",
         "b9e5e77c-a0b3-4a2c-9b8b-57fa54f31c52",
         "Storage",
         "Tables",
         "All",
         "Batch Write Operations",
         0.0088,
         0.0
        ],
        [
         "EVIDEN MS Partner",
         "61096b0b-79b9-442a-9e59-9b03e9ed7dca",
         "2/5/2024",
         "21a9c0ad-88fe-5a95-8daa-5f2eef4afc5c",
         "Storage",
         "General Block Blob v2 Hierarchical Namespace",
         "PL Central",
         "Cool Read Operations",
         3.0E-4,
         4.0E-6
        ],
        [
         "EVIDEN MS Partner",
         "61096b0b-79b9-442a-9e59-9b03e9ed7dca",
         "2/7/2024",
         "21a9c0ad-88fe-5a95-8daa-5f2eef4afc5c",
         "Storage",
         "General Block Blob v2 Hierarchical Namespace",
         "PL Central",
         "Cool Read Operations",
         0.0016,
         2.3E-5
        ],
        [
         "EVIDEN MS Partner",
         "61096b0b-79b9-442a-9e59-9b03e9ed7dca",
         "2/2/2024",
         "a13a9a9e-4cf0-51f6-9718-64324ff2fc6d",
         "Storage",
         "Azure Data Lake Storage Gen2 Hierarchical Namespace",
         "PL Central",
         "Hot Iterative Read Operations",
         6.0E-4,
         4.6E-5
        ],
        [
         "EVIDEN MS Partner",
         "61096b0b-79b9-442a-9e59-9b03e9ed7dca",
         "2/5/2024",
         "a13a9a9e-4cf0-51f6-9718-64324ff2fc6d",
         "Storage",
         "Azure Data Lake Storage Gen2 Hierarchical Namespace",
         "PL Central",
         "Hot Iterative Read Operations",
         0.0014,
         1.08E-4
        ],
        [
         "EVIDEN MS Partner",
         "61096b0b-79b9-442a-9e59-9b03e9ed7dca",
         "2/7/2024",
         "a13a9a9e-4cf0-51f6-9718-64324ff2fc6d",
         "Storage",
         "Azure Data Lake Storage Gen2 Hierarchical Namespace",
         "PL Central",
         "Hot Iterative Read Operations",
         4.0E-4,
         3.1E-5
        ],
        [
         "EVIDEN MS Partner",
         "61096b0b-79b9-442a-9e59-9b03e9ed7dca",
         "2/2/2024",
         "761abab8-259d-4206-a6ae-707ed03fc540",
         "Storage",
         "Files",
         "All",
         "Read Operations",
         2.0E-4,
         0.0
        ],
        [
         "EVIDEN MS Partner",
         "61096b0b-79b9-442a-9e59-9b03e9ed7dca",
         "2/5/2024",
         "761abab8-259d-4206-a6ae-707ed03fc540",
         "Storage",
         "Files",
         "All",
         "Read Operations",
         0.0137,
         2.0E-5
        ],
        [
         "EVIDEN MS Partner",
         "61096b0b-79b9-442a-9e59-9b03e9ed7dca",
         "2/2/2024",
         "9995d93a-7d35-4d3f-9c69-7a7fea447ef4",
         "Bandwidth",
         "All",
         "All",
         "Standard Data Transfer Out",
         6.0E-6,
         1.0E-6
        ],
        [
         "EVIDEN MS Partner",
         "61096b0b-79b9-442a-9e59-9b03e9ed7dca",
         "2/5/2024",
         "9995d93a-7d35-4d3f-9c69-7a7fea447ef4",
         "Bandwidth",
         "All",
         "All",
         "Standard Data Transfer Out",
         1.1E-5,
         1.0E-6
        ],
        [
         "EVIDEN MS Partner",
         "61096b0b-79b9-442a-9e59-9b03e9ed7dca",
         "2/2/2024",
         "12da282f-7e96-49e2-983a-9a65da2a4866",
         "Storage",
         "Tables",
         "All",
         "Read Operations",
         4.0E-4,
         0.0
        ],
        [
         "EVIDEN MS Partner",
         "61096b0b-79b9-442a-9e59-9b03e9ed7dca",
         "2/5/2024",
         "12da282f-7e96-49e2-983a-9a65da2a4866",
         "Storage",
         "Tables",
         "All",
         "Read Operations",
         6.0E-4,
         0.0
        ],
        [
         "EVIDEN MS Partner",
         "61096b0b-79b9-442a-9e59-9b03e9ed7dca",
         "2/6/2024",
         "12da282f-7e96-49e2-983a-9a65da2a4866",
         "Storage",
         "Tables",
         "All",
         "Read Operations",
         1.0E-4,
         0.0
        ],
        [
         "EVIDEN MS Partner",
         "61096b0b-79b9-442a-9e59-9b03e9ed7dca",
         "2/5/2024",
         "4b0f0e6c-57ef-5143-9be8-9c47d933f488",
         "Storage",
         "General Block Blob v2 Hierarchical Namespace",
         "PL Central",
         "Cool Data Retrieval",
         5.4E-5,
         1.0E-6
        ],
        [
         "EVIDEN MS Partner",
         "61096b0b-79b9-442a-9e59-9b03e9ed7dca",
         "2/7/2024",
         "4b0f0e6c-57ef-5143-9be8-9c47d933f488",
         "Storage",
         "General Block Blob v2 Hierarchical Namespace",
         "PL Central",
         "Cool Data Retrieval",
         2.9E-4,
         3.0E-6
        ],
        [
         "EVIDEN MS Partner",
         "61096b0b-79b9-442a-9e59-9b03e9ed7dca",
         "2/5/2024",
         "f90f81d2-238a-49d0-9f1b-9df13a859843",
         "Storage",
         "Files",
         "All",
         "LRS Write Operations",
         0.0222,
         3.33E-4
        ],
        [
         "EVIDEN MS Partner",
         "61096b0b-79b9-442a-9e59-9b03e9ed7dca",
         "2/2/2024",
         "9cb0bde8-bc0d-468c-8423-a25fe06779d3",
         "Storage",
         "Tables",
         "All",
         "Write Operations",
         4.0E-4,
         0.0
        ],
        [
         "EVIDEN MS Partner",
         "61096b0b-79b9-442a-9e59-9b03e9ed7dca",
         "2/5/2024",
         "9cb0bde8-bc0d-468c-8423-a25fe06779d3",
         "Storage",
         "Tables",
         "All",
         "Write Operations",
         6.0E-4,
         0.0
        ],
        [
         "EVIDEN MS Partner",
         "61096b0b-79b9-442a-9e59-9b03e9ed7dca",
         "2/6/2024",
         "9cb0bde8-bc0d-468c-8423-a25fe06779d3",
         "Storage",
         "Tables",
         "All",
         "Write Operations",
         1.0E-4,
         0.0
        ],
        [
         "EVIDEN MS Partner",
         "61096b0b-79b9-442a-9e59-9b03e9ed7dca",
         "2/4/2024",
         "3f2b1e1c-c886-4ec6-ad6f-dd0ef38819c9",
         "Storage",
         "Tables",
         "All",
         "LRS Data Stored",
         1.9E-5,
         0.0
        ],
        [
         "EVIDEN MS Partner",
         "61096b0b-79b9-442a-9e59-9b03e9ed7dca",
         "2/5/2024",
         "3f2b1e1c-c886-4ec6-ad6f-dd0ef38819c9",
         "Storage",
         "Tables",
         "All",
         "LRS Data Stored",
         4.3E-5,
         0.0
        ],
        [
         "EVIDEN MS Partner",
         "61096b0b-79b9-442a-9e59-9b03e9ed7dca",
         "2/6/2024",
         "3f2b1e1c-c886-4ec6-ad6f-dd0ef38819c9",
         "Storage",
         "Tables",
         "All",
         "LRS Data Stored",
         7.0E-5,
         0.0
        ],
        [
         "EVIDEN MS Partner",
         "61096b0b-79b9-442a-9e59-9b03e9ed7dca",
         "2/7/2024",
         "3f2b1e1c-c886-4ec6-ad6f-dd0ef38819c9",
         "Storage",
         "Tables",
         "All",
         "LRS Data Stored",
         1.12E-4,
         0.0
        ],
        [
         "EVIDEN MS Partner",
         "61096b0b-79b9-442a-9e59-9b03e9ed7dca",
         "2/8/2024",
         "3f2b1e1c-c886-4ec6-ad6f-dd0ef38819c9",
         "Storage",
         "Tables",
         "All",
         "LRS Data Stored",
         4.9E-5,
         0.0
        ],
        [
         "EVIDEN MS Partner",
         "61096b0b-79b9-442a-9e59-9b03e9ed7dca",
         "2/7/2024",
         "9d6f5dbf-90a1-46bc-85b7-e9c3f92bae35",
         "Azure Data Factory v2",
         "All",
         "All",
         "Cloud Data Movement",
         0.066667,
         0.016667
        ],
        [
         "EVIDEN MS Partner",
         "61096b0b-79b9-442a-9e59-9b03e9ed7dca",
         "2/5/2024",
         "65b9efcb-2696-5dc3-973d-ec3b9f148b97",
         "SQL Database",
         "Single General Purpose - Serverless - Compute Gen5",
         "PL Central",
         "vCore",
         1.008619,
         0.636768
        ],
        [
         "EVIDEN MS Partner",
         "61096b0b-79b9-442a-9e59-9b03e9ed7dca",
         "2/6/2024",
         "65b9efcb-2696-5dc3-973d-ec3b9f148b97",
         "SQL Database",
         "Single General Purpose - Serverless - Compute Gen5",
         "PL Central",
         "vCore",
         3.398113,
         2.145322
        ],
        [
         "EVIDEN MS Partner",
         "61096b0b-79b9-442a-9e59-9b03e9ed7dca",
         "2/7/2024",
         "65b9efcb-2696-5dc3-973d-ec3b9f148b97",
         "SQL Database",
         "Single General Purpose - Serverless - Compute Gen5",
         "PL Central",
         "vCore",
         1.455616,
         0.918971
        ],
        [
         "EVIDEN MS Partner",
         "61096b0b-79b9-442a-9e59-9b03e9ed7dca",
         "2/5/2024",
         "047ead4b-ea01-5976-b739-fb65cb00eeba",
         "Storage",
         "General Block Blob v2 Hierarchical Namespace",
         "PL Central",
         "Cool Write Operations",
         2.0E-4,
         2.9E-5
        ]
       ],
       "datasetInfos": [],
       "dbfsResultPath": null,
       "isJsonSchema": true,
       "metadata": {},
       "overflow": false,
       "plotOptions": {
        "customPlotOptions": {},
        "displayType": "table",
        "pivotAggregation": null,
        "pivotColumns": null,
        "xColumns": null,
        "yColumns": null
       },
       "removedWidgets": [],
       "schema": [
        {
         "metadata": "{}",
         "name": "SubscriptionName",
         "type": "\"string\""
        },
        {
         "metadata": "{}",
         "name": "SubscriptionGuid",
         "type": "\"string\""
        },
        {
         "metadata": "{}",
         "name": "Date",
         "type": "\"string\""
        },
        {
         "metadata": "{}",
         "name": "ResourceGuid",
         "type": "\"string\""
        },
        {
         "metadata": "{}",
         "name": "ServiceName",
         "type": "\"string\""
        },
        {
         "metadata": "{}",
         "name": "ServiceType",
         "type": "\"string\""
        },
        {
         "metadata": "{}",
         "name": "ServiceRegion",
         "type": "\"string\""
        },
        {
         "metadata": "{}",
         "name": "ServiceResource",
         "type": "\"string\""
        },
        {
         "metadata": "{}",
         "name": "Quantity",
         "type": "\"double\""
        },
        {
         "metadata": "{}",
         "name": "Cost",
         "type": "\"double\""
        }
       ],
       "type": "table"
      }
     },
     "output_type": "display_data"
    },
    {
     "output_type": "display_data",
     "data": {
      "text/plain": [
       "Databricks visualization. Run in Databricks to view."
      ]
     },
     "metadata": {
      "application/vnd.databricks.v1.subcommand+json": {
       "baseErrorDetails": null,
       "bindings": {},
       "collapsed": false,
       "command": "%python\n__backend_agg_display_orig = display\n__backend_agg_dfs = []\ndef __backend_agg_display_new(df):\n    __backend_agg_df_modules = [\"pandas.core.frame\", \"databricks.koalas.frame\", \"pyspark.sql.dataframe\", \"pyspark.pandas.frame\", \"pyspark.sql.connect.dataframe\"]\n    if (type(df).__module__ in __backend_agg_df_modules and type(df).__name__ == 'DataFrame') or isinstance(df, list):\n        __backend_agg_dfs.append(df)\n\ndisplay = __backend_agg_display_new\n\ndef __backend_agg_user_code_fn():\n    import base64\n    exec(base64.standard_b64decode(\"ZGYgPSBzcGFyay5yZWFkLmNzdihmaWxlX2xvY2F0aW9uLCBoZWFkZXI9VHJ1ZSwgaW5mZXJTY2hlbWE9VHJ1ZSkKZGYuZGlzcGxheSgp\").decode())\n\ntry:\n    # run user code\n    __backend_agg_user_code_fn()\n\n    #reset display function\n    display = __backend_agg_display_orig\n\n    if len(__backend_agg_dfs) > 0:\n        # create a temp view\n        if type(__backend_agg_dfs[0]).__module__ == \"databricks.koalas.frame\":\n            # koalas dataframe\n            __backend_agg_dfs[0].to_spark().createOrReplaceTempView(\"DatabricksView9b01fb0\")\n        elif type(__backend_agg_dfs[0]).__module__ == \"pandas.core.frame\" or isinstance(__backend_agg_dfs[0], list):\n            # pandas dataframe\n            spark.createDataFrame(__backend_agg_dfs[0]).createOrReplaceTempView(\"DatabricksView9b01fb0\")\n        else:\n            __backend_agg_dfs[0].createOrReplaceTempView(\"DatabricksView9b01fb0\")\n        #run backend agg\n        display(spark.sql(\"\"\"WITH q AS (select * from DatabricksView9b01fb0) SELECT `Date`,SUM(`Cost`) `column_2fb0b5196`,`ServiceName` FROM q GROUP BY `Date`,`ServiceName`\"\"\"))\n    else:\n        displayHTML(\"dataframe no longer exists. If you're using dataframe.display(), use display(dataframe) instead.\")\n\n\nfinally:\n    spark.sql(\"drop view if exists DatabricksView9b01fb0\")\n    display = __backend_agg_display_orig\n    del __backend_agg_display_new\n    del __backend_agg_display_orig\n    del __backend_agg_dfs\n    del __backend_agg_user_code_fn\n\n",
       "commandTitle": "Visualization 1",
       "commandType": "auto",
       "commandVersion": 0,
       "commentThread": [],
       "commentsVisible": false,
       "contentSha256Hex": null,
       "customPlotOptions": {
        "redashChart": [
         {
          "key": "type",
          "value": "CHART"
         },
         {
          "key": "options",
          "value": {
           "alignYAxesAtZero": true,
           "coefficient": 1,
           "columnConfigurationMap": {
            "series": {
             "column": "ServiceName",
             "id": "column_2fb0b51914"
            },
            "x": {
             "column": "Date",
             "id": "column_2fb0b51913"
            },
            "y": [
             {
              "column": "Cost",
              "id": "column_2fb0b5196",
              "transform": "SUM"
             }
            ]
           },
           "dateTimeFormat": "DD/MM/YYYY HH:mm",
           "direction": {
            "type": "counterclockwise"
           },
           "error_y": {
            "type": "data",
            "visible": true
           },
           "globalSeriesType": "column",
           "isAggregationOn": true,
           "legend": {
            "traceorder": "normal"
           },
           "missingValuesAsZero": true,
           "numberFormat": "0,0.[00000]",
           "percentFormat": "0[.]00%",
           "series": {
            "error_y": {
             "type": "data",
             "visible": true
            },
            "stacking": null
           },
           "seriesOptions": {
            "column_2fb0b5196": {
             "type": "column",
             "yAxis": 0
            }
           },
           "showDataLabels": false,
           "sizemode": "diameter",
           "sortX": true,
           "sortY": true,
           "swappedAxes": false,
           "textFormat": "",
           "useAggregationsUi": true,
           "valuesOptions": {},
           "version": 2,
           "xAxis": {
            "labels": {
             "enabled": true
            },
            "type": "-"
           },
           "yAxis": [
            {
             "type": "-"
            },
            {
             "opposite": true,
             "type": "-"
            }
           ]
          }
         }
        ]
       },
       "datasetPreviewNameToCmdIdMap": {},
       "diffDeletes": [],
       "diffInserts": [],
       "displayType": "redashChart",
       "error": null,
       "errorDetails": null,
       "errorSummary": null,
       "errorTraceType": null,
       "finishTime": 0,
       "globalVars": {},
       "guid": "",
       "height": "auto",
       "hideCommandCode": false,
       "hideCommandResult": false,
       "iPythonMetadata": null,
       "inputWidgets": {},
       "isLockedInExamMode": false,
       "latestUser": "a user",
       "latestUserId": null,
       "listResultMetadata": null,
       "metadata": {
        "byteLimit": 2048000,
        "rowLimit": 10000
       },
       "nuid": "e3bee4b6-da4c-4745-b179-eba1922e3e54",
       "origId": 0,
       "parentHierarchy": [],
       "pivotAggregation": null,
       "pivotColumns": null,
       "position": 5.625,
       "resultDbfsErrorMessage": null,
       "resultDbfsStatus": "INLINED_IN_TREE",
       "results": null,
       "showCommandTitle": false,
       "startTime": 0,
       "state": "finished",
       "streamStates": {},
       "subcommandOptions": {
        "queryPlan": {
         "groups": [
          {
           "column": "Date",
           "type": "column"
          },
          {
           "column": "ServiceName",
           "type": "column"
          }
         ],
         "selects": [
          {
           "column": "Date",
           "type": "column"
          },
          {
           "alias": "column_2fb0b5196",
           "args": [
            {
             "column": "Cost",
             "type": "column"
            }
           ],
           "function": "SUM",
           "type": "function"
          },
          {
           "column": "ServiceName",
           "type": "column"
          }
         ]
        }
       },
       "submitTime": 0,
       "subtype": "tableResultSubCmd.visualization",
       "tableResultIndex": 0,
       "useConsistentColors": false,
       "version": "CommandV1",
       "width": "auto",
       "workflows": [],
       "xColumns": null,
       "yColumns": null
      }
     },
     "output_type": "display_data"
    }
   ],
   "source": [
    "df = spark.read.csv(file_location, header=True, inferSchema=True)\n",
    "df.display()"
   ]
  },
  {
   "cell_type": "markdown",
   "metadata": {
    "application/vnd.databricks.v1+cell": {
     "cellMetadata": {
      "byteLimit": 2048000,
      "rowLimit": 10000
     },
     "inputWidgets": {},
     "nuid": "f72c6e68-d125-4095-b325-ddec31985610",
     "showTitle": false,
     "title": ""
    }
   },
   "source": [
    "\n",
    "## Saving the file to the container"
   ]
  },
  {
   "cell_type": "code",
   "execution_count": 0,
   "metadata": {
    "application/vnd.databricks.v1+cell": {
     "cellMetadata": {
      "byteLimit": 2048000,
      "rowLimit": 10000
     },
     "inputWidgets": {},
     "nuid": "827cd4b5-1193-4ec3-82cd-af7c49613626",
     "showTitle": false,
     "title": ""
    }
   },
   "outputs": [],
   "source": [
    "output_path = f\"wasbs://output@{storage_account_name}.blob.core.windows.net/\"\n",
    "df.write.parquet(output_path,partitionBy='ServiceName', mode=\"overwrite\")"
   ]
  },
  {
   "cell_type": "code",
   "execution_count": 0,
   "metadata": {
    "application/vnd.databricks.v1+cell": {
     "cellMetadata": {
      "byteLimit": 2048000,
      "rowLimit": 10000
     },
     "inputWidgets": {},
     "nuid": "878068f7-5dd5-4581-8e84-eb4310df77c0",
     "showTitle": false,
     "title": ""
    }
   },
   "outputs": [],
   "source": [
    "output_path = f\"wasbs://output@{storage_account_name}.blob.core.windows.net/\"\n",
    "df.write.csv(output_path,sep=';', mode=\"overwrite\")"
   ]
  },
  {
   "cell_type": "markdown",
   "metadata": {
    "application/vnd.databricks.v1+cell": {
     "cellMetadata": {
      "byteLimit": 2048000,
      "rowLimit": 10000
     },
     "inputWidgets": {},
     "nuid": "55cc4ff3-8b2a-4912-a803-d4c4c414764c",
     "showTitle": false,
     "title": ""
    }
   },
   "source": [
    "\n",
    "### Step 4: (Optional) Create a view or table\n",
    "\n",
    "If you want to query this data as a table, you can simply register it as a *view* or a table."
   ]
  },
  {
   "cell_type": "code",
   "execution_count": 0,
   "metadata": {
    "application/vnd.databricks.v1+cell": {
     "cellMetadata": {
      "byteLimit": 2048000,
      "rowLimit": 10000
     },
     "inputWidgets": {},
     "nuid": "d519ad56-b616-480b-832a-dfb3a6526c6d",
     "showTitle": false,
     "title": ""
    }
   },
   "outputs": [],
   "source": [
    "df.createOrReplaceTempView(\"AzureUsage\")"
   ]
  },
  {
   "cell_type": "markdown",
   "metadata": {
    "application/vnd.databricks.v1+cell": {
     "cellMetadata": {
      "byteLimit": 2048000,
      "rowLimit": 10000
     },
     "inputWidgets": {},
     "nuid": "cdbd4390-0069-411d-a4c8-4734098ff908",
     "showTitle": false,
     "title": ""
    }
   },
   "source": [
    "\n",
    "We can query this view using Spark SQL. For instance, we can perform a simple aggregation. Notice how we can use `%sql` to query the view from SQL."
   ]
  },
  {
   "cell_type": "code",
   "execution_count": 0,
   "metadata": {
    "application/vnd.databricks.v1+cell": {
     "cellMetadata": {
      "byteLimit": 2048000,
      "implicitDf": true,
      "rowLimit": 10000
     },
     "inputWidgets": {},
     "nuid": "3dcf5500-0364-46aa-b462-b6d2c1b81b07",
     "showTitle": false,
     "title": ""
    }
   },
   "outputs": [
    {
     "output_type": "display_data",
     "data": {
      "text/html": [
       "<style scoped>\n",
       "  .table-result-container {\n",
       "    max-height: 300px;\n",
       "    overflow: auto;\n",
       "  }\n",
       "  table, th, td {\n",
       "    border: 1px solid black;\n",
       "    border-collapse: collapse;\n",
       "  }\n",
       "  th, td {\n",
       "    padding: 5px;\n",
       "  }\n",
       "  th {\n",
       "    text-align: left;\n",
       "  }\n",
       "</style><div class='table-result-container'><table class='table-result'><thead style='background-color: white'><tr><th>ServiceName</th><th>count(ServiceName)</th></tr></thead><tbody><tr><td>SQL Database</td><td>7</td></tr><tr><td>Storage</td><td>45</td></tr><tr><td>Bandwidth</td><td>4</td></tr><tr><td>Azure Data Factory v2</td><td>4</td></tr></tbody></table></div>"
      ]
     },
     "metadata": {
      "application/vnd.databricks.v1+output": {
       "addedWidgets": {},
       "aggData": [],
       "aggError": "",
       "aggOverflow": false,
       "aggSchema": [],
       "aggSeriesLimitReached": false,
       "aggType": "",
       "arguments": {},
       "columnCustomDisplayInfos": {},
       "data": [
        [
         "SQL Database",
         7
        ],
        [
         "Storage",
         45
        ],
        [
         "Bandwidth",
         4
        ],
        [
         "Azure Data Factory v2",
         4
        ]
       ],
       "datasetInfos": [],
       "dbfsResultPath": null,
       "isJsonSchema": true,
       "metadata": {
        "dataframeName": "_sqldf",
        "executionCount": 84
       },
       "overflow": false,
       "plotOptions": {
        "customPlotOptions": {},
        "displayType": "table",
        "pivotAggregation": null,
        "pivotColumns": null,
        "xColumns": null,
        "yColumns": null
       },
       "removedWidgets": [],
       "schema": [
        {
         "metadata": "{}",
         "name": "ServiceName",
         "type": "\"string\""
        },
        {
         "metadata": "{\"__autoGeneratedAlias\":\"true\"}",
         "name": "count(ServiceName)",
         "type": "\"long\""
        }
       ],
       "type": "table"
      }
     },
     "output_type": "display_data"
    }
   ],
   "source": [
    "%sql\n",
    "\n",
    "SELECT ServiceName, count(ServiceName) FROM AzureUsage GROUP BY ServiceName"
   ]
  },
  {
   "cell_type": "code",
   "execution_count": 0,
   "metadata": {
    "application/vnd.databricks.v1+cell": {
     "cellMetadata": {
      "byteLimit": 2048000,
      "implicitDf": true,
      "rowLimit": 10000
     },
     "inputWidgets": {},
     "nuid": "69d3cd8a-2ca5-4734-81bc-12d533b6dca9",
     "showTitle": false,
     "title": ""
    }
   },
   "outputs": [
    {
     "output_type": "display_data",
     "data": {
      "text/html": [
       "<style scoped>\n",
       "  .table-result-container {\n",
       "    max-height: 300px;\n",
       "    overflow: auto;\n",
       "  }\n",
       "  table, th, td {\n",
       "    border: 1px solid black;\n",
       "    border-collapse: collapse;\n",
       "  }\n",
       "  th, td {\n",
       "    padding: 5px;\n",
       "  }\n",
       "  th {\n",
       "    text-align: left;\n",
       "  }\n",
       "</style><div class='table-result-container'><table class='table-result'><thead style='background-color: white'><tr><th>ServiceName</th><th>Cost_USD</th></tr></thead><tbody><tr><td>Azure Data Factory v2</td><td>15.02</td></tr><tr><td>SQL Database</td><td>4.22</td></tr><tr><td>Storage</td><td>0.03</td></tr><tr><td>Bandwidth</td><td>0.0</td></tr></tbody></table></div>"
      ]
     },
     "metadata": {
      "application/vnd.databricks.v1+output": {
       "addedWidgets": {},
       "aggData": [],
       "aggError": "",
       "aggOverflow": false,
       "aggSchema": [],
       "aggSeriesLimitReached": false,
       "aggType": "",
       "arguments": {},
       "columnCustomDisplayInfos": {},
       "data": [
        [
         "Azure Data Factory v2",
         15.02
        ],
        [
         "SQL Database",
         4.22
        ],
        [
         "Storage",
         0.03
        ],
        [
         "Bandwidth",
         0.0
        ]
       ],
       "datasetInfos": [],
       "dbfsResultPath": null,
       "isJsonSchema": true,
       "metadata": {
        "dataframeName": "_sqldf",
        "executionCount": 85
       },
       "overflow": false,
       "plotOptions": {
        "customPlotOptions": {},
        "displayType": "table",
        "pivotAggregation": null,
        "pivotColumns": null,
        "xColumns": null,
        "yColumns": null
       },
       "removedWidgets": [],
       "schema": [
        {
         "metadata": "{}",
         "name": "ServiceName",
         "type": "\"string\""
        },
        {
         "metadata": "{}",
         "name": "Cost_USD",
         "type": "\"double\""
        }
       ],
       "type": "table"
      }
     },
     "output_type": "display_data"
    },
    {
     "output_type": "display_data",
     "data": {
      "text/plain": [
       "Databricks visualization. Run in Databricks to view."
      ]
     },
     "metadata": {
      "application/vnd.databricks.v1.subcommand+json": {
       "baseErrorDetails": null,
       "bindings": {},
       "collapsed": false,
       "command": "%sql WITH q AS (SELECT ServiceName, Round(sum(Cost), 2) as Cost_USD FROM AzureUsage GROUP BY ServiceName ORDER BY 2 desc) SELECT `ServiceName`,SUM(`Cost_USD`) `column_2fb0b5192` FROM q GROUP BY `ServiceName`",
       "commandTitle": "Visualization 1",
       "commandType": "auto",
       "commandVersion": 0,
       "commentThread": [],
       "commentsVisible": false,
       "contentSha256Hex": null,
       "customPlotOptions": {
        "redashChart": [
         {
          "key": "type",
          "value": "CHART"
         },
         {
          "key": "options",
          "value": {
           "alignYAxesAtZero": true,
           "coefficient": 1,
           "columnConfigurationMap": {
            "x": {
             "column": "ServiceName",
             "id": "column_2fb0b5191"
            },
            "y": [
             {
              "column": "Cost_USD",
              "id": "column_2fb0b5192",
              "transform": "SUM"
             }
            ]
           },
           "dateTimeFormat": "DD/MM/YYYY HH:mm",
           "direction": {
            "type": "counterclockwise"
           },
           "error_y": {
            "type": "data",
            "visible": true
           },
           "globalSeriesType": "column",
           "isAggregationOn": true,
           "legend": {
            "traceorder": "normal"
           },
           "missingValuesAsZero": true,
           "numberFormat": "0,0.[00000]",
           "percentFormat": "0[.]00%",
           "series": {
            "error_y": {
             "type": "data",
             "visible": true
            },
            "stacking": null
           },
           "seriesOptions": {
            "column_2fb0b5192": {
             "name": "Cost_USD",
             "yAxis": 0
            }
           },
           "showDataLabels": false,
           "sizemode": "diameter",
           "sortX": true,
           "sortY": true,
           "swappedAxes": false,
           "textFormat": "",
           "useAggregationsUi": true,
           "valuesOptions": {},
           "version": 2,
           "xAxis": {
            "labels": {
             "enabled": true
            },
            "type": "-"
           },
           "yAxis": [
            {
             "type": "-"
            },
            {
             "opposite": true,
             "type": "-"
            }
           ]
          }
         }
        ]
       },
       "datasetPreviewNameToCmdIdMap": {},
       "diffDeletes": [],
       "diffInserts": [],
       "displayType": "redashChart",
       "error": null,
       "errorDetails": null,
       "errorSummary": null,
       "errorTraceType": null,
       "finishTime": 0,
       "globalVars": {},
       "guid": "",
       "height": "auto",
       "hideCommandCode": false,
       "hideCommandResult": false,
       "iPythonMetadata": null,
       "inputWidgets": {},
       "isLockedInExamMode": false,
       "latestUser": "a user",
       "latestUserId": null,
       "listResultMetadata": null,
       "metadata": {
        "byteLimit": 2048000,
        "implicitDf": true,
        "rowLimit": 10000
       },
       "nuid": "184ee932-6e3b-43d5-be55-a4043e7273b2",
       "origId": 0,
       "parentHierarchy": [],
       "pivotAggregation": null,
       "pivotColumns": null,
       "position": 9.1875,
       "resultDbfsErrorMessage": null,
       "resultDbfsStatus": "INLINED_IN_TREE",
       "results": null,
       "showCommandTitle": false,
       "startTime": 0,
       "state": "finished",
       "streamStates": {},
       "subcommandOptions": {
        "queryPlan": {
         "groups": [
          {
           "column": "ServiceName",
           "type": "column"
          }
         ],
         "selects": [
          {
           "column": "ServiceName",
           "type": "column"
          },
          {
           "alias": "column_2fb0b5192",
           "args": [
            {
             "column": "Cost_USD",
             "type": "column"
            }
           ],
           "function": "SUM",
           "type": "function"
          }
         ]
        }
       },
       "submitTime": 0,
       "subtype": "tableResultSubCmd.visualization",
       "tableResultIndex": 0,
       "useConsistentColors": false,
       "version": "CommandV1",
       "width": "auto",
       "workflows": [],
       "xColumns": null,
       "yColumns": null
      }
     },
     "output_type": "display_data"
    }
   ],
   "source": [
    "%sql\n",
    "SELECT ServiceName, Round(sum(Cost), 2) as Cost_USD FROM AzureUsage GROUP BY ServiceName ORDER BY 2 desc \n"
   ]
  },
  {
   "cell_type": "code",
   "execution_count": 0,
   "metadata": {
    "application/vnd.databricks.v1+cell": {
     "cellMetadata": {
      "byteLimit": 2048000,
      "rowLimit": 10000
     },
     "inputWidgets": {},
     "nuid": "cb6e9247-41ef-4a91-a729-7709bdc2333e",
     "showTitle": false,
     "title": ""
    }
   },
   "outputs": [],
   "source": [
    "#%scala\n",
    "#display('AzureUsage')"
   ]
  },
  {
   "cell_type": "code",
   "execution_count": 0,
   "metadata": {
    "application/vnd.databricks.v1+cell": {
     "cellMetadata": {
      "byteLimit": 2048000,
      "rowLimit": 10000
     },
     "inputWidgets": {},
     "nuid": "7998c419-df54-4100-bea7-153c678f1554",
     "showTitle": false,
     "title": ""
    }
   },
   "outputs": [
    {
     "output_type": "display_data",
     "data": {
      "text/html": [
       "<style scoped>\n",
       "  .ansiout {\n",
       "    display: block;\n",
       "    unicode-bidi: embed;\n",
       "    white-space: pre-wrap;\n",
       "    word-wrap: break-word;\n",
       "    word-break: break-all;\n",
       "    font-family: \"Menlo\", \"Monaco\", \"Consolas\", \"Ubuntu Mono\", \"Source Code Pro\", monospace;\n",
       "    font-size: 13px;\n",
       "    color: #555;\n",
       "    margin-left: 4px;\n",
       "    line-height: 19px;\n",
       "  }\n",
       "</style>"
      ]
     },
     "metadata": {
      "application/vnd.databricks.v1+output": {
       "addedWidgets": {},
       "arguments": {},
       "data": "",
       "datasetInfos": [],
       "metadata": {
        "isDbfsCommandResult": false
       },
       "removedWidgets": [],
       "type": "html"
      }
     },
     "output_type": "display_data"
    },
    {
     "output_type": "display_data",
     "data": {
      "text/html": [
       "<style scoped>\n",
       "  .ansiout {\n",
       "    display: block;\n",
       "    unicode-bidi: embed;\n",
       "    white-space: pre-wrap;\n",
       "    word-wrap: break-word;\n",
       "    word-break: break-all;\n",
       "    font-family: \"Menlo\", \"Monaco\", \"Consolas\", \"Ubuntu Mono\", \"Source Code Pro\", monospace;\n",
       "    font-size: 13px;\n",
       "    color: #555;\n",
       "    margin-left: 4px;\n",
       "    line-height: 19px;\n",
       "  }\n",
       "</style>\n",
       "Error in eval(parse(text = .DATABRICKS_CURRENT_TEMP_CMD__)): object 'AzureUsage' not found"
      ]
     },
     "metadata": {
      "application/vnd.databricks.v1+output": {
       "arguments": {},
       "data": "Error in eval(parse(text = .DATABRICKS_CURRENT_TEMP_CMD__)): object 'AzureUsage' not found\n",
       "errorSummary": "Error in eval(parse(text = .DATABRICKS_CURRENT_TEMP_CMD__)) : \n  object 'AzureUsage' not found\nError in eval(parse(text = .DATABRICKS_CURRENT_TEMP_CMD__)): object 'AzureUsage' not found",
       "errorTraceType": "html",
       "metadata": {},
       "type": "ipynbError"
      }
     },
     "output_type": "display_data"
    }
   ],
   "source": [
    "#%r\n",
    "#print(AzureUsage)"
   ]
  }
 ],
 "metadata": {
  "application/vnd.databricks.v1+notebook": {
   "dashboards": [],
   "language": "python",
   "notebookMetadata": {
    "mostRecentlyExecutedCommandWithImplicitDF": {
     "commandId": 2788658419801189,
     "dataframes": [
      "_sqldf"
     ]
    },
    "pythonIndentUnit": 2
   },
   "notebookName": "Session #1 (2024-02-08) - Import from Azure Blob Storage",
   "widgets": {
    "ACCESS_KEY": {
     "currentValue": "abcdef",
     "nuid": "35caf15a-37b3-4a74-a038-c4811e4371b4",
     "widgetInfo": {
      "widgetType": "text",
      "defaultValue": "...",
      "label": null,
      "name": "ACCESS_KEY",
      "options": {
       "widgetType": "text",
       "autoCreated": null,
       "validationRegex": null
      }
     }
    }
   }
  }
 },
 "nbformat": 4,
 "nbformat_minor": 0
}
